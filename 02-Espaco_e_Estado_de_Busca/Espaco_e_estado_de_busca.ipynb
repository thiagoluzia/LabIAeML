{
 "cells": [
  {
   "cell_type": "markdown",
   "id": "7c76f4d3",
   "metadata": {},
   "source": [
    "## Inteligência Artificial - Espaço e Estados de Busca\n",
    "\n",
    "#### Situação-Problema\n",
    "\n",
    "Estamos desenvolvendo uma solução de **Inteligência Artificial** simples para um robô de limpeza que precisa se locomover dentro de uma casa.\n",
    "\n",
    "A casa é composta por **quatro salas** conectadas entre si:\n",
    "\n",
    "**Sala A → Sala B → Sala C → Sala D**\n",
    "\n",
    "O objetivo é fazer com que o robô encontre o **melhor caminho** da **Sala A (estado inicial)** até a **Sala D (estado final)**, utilizando um processo de **busca em um espaço de estados**.\n",
    "\n",
    "---\n",
    "\n",
    "### Ilustração do problema\n",
    "\n",
    "![Problema de busca no mundo do aspirador](aspirador.png)\n",
    "\n",
    "Fonte: [IME USP - Inteligência Artificial](https://www.ime.usp.br/~slago/ia-6.pdf).\n",
    "\n",
    "--- \n",
    "\n",
    "### Conceitos aplicados\n",
    "\n",
    "| Conceito               | Descrição                                                                 |\n",
    "|------------------------|---------------------------------------------------------------------------|\n",
    "| **Estado Inicial**     | Onde o robô começa (neste caso, a **Sala A**)                            |\n",
    "| **Estado Final**       | Onde o robô precisa chegar (**Sala D**)                                  |\n",
    "| **Espaço de Busca**    | Todas as salas e conexões possíveis entre elas                           |\n",
    "| **Estado de Busca**    | Cada sala visitada durante o caminho                                      |\n",
    "| **Ação Executada**     | A decisão tomada para ir de uma sala para outra                          |\n",
    "| **Função de Aptidão**  | Mede o quão perto o robô está do objetivo. Quanto menor, melhor          |\n",
    "\n",
    "---\n",
    "\n",
    "Essa simulação representa uma base importante para entender como algoritmos de IA funcionam para resolver problemas reais como:\n",
    "\n",
    "- Navegação de robôs\n",
    "- Planejamento de rotas\n",
    "- Tomada de decisões autônomas\n",
    "- Algoritmos de jogos e estratégias\n"
   ]
  },
  {
   "cell_type": "code",
   "execution_count": null,
   "id": "5d118b48",
   "metadata": {},
   "outputs": [],
   "source": [
    "# Representação do espaço (grafo simples)\n",
    "salas = {\n",
    "    'A': ['B'],\n",
    "    'B': ['A', 'C'],\n",
    "    'C': ['B', 'D'],\n",
    "    'D': ['C']\n",
    "}"
   ]
  },
  {
   "cell_type": "code",
   "execution_count": null,
   "id": "03416561",
   "metadata": {},
   "outputs": [],
   "source": [
    "# Estado inicial e final\n",
    "estado_inicial = 'A'\n",
    "estado_final = 'D'"
   ]
  },
  {
   "cell_type": "code",
   "execution_count": null,
   "id": "4f1daf22",
   "metadata": {},
   "outputs": [],
   "source": [
    "# Função de aptidão (quanto menor, melhor)\n",
    "def funcao_aptidao(estado_atual):\n",
    "    # Distância aproximada até o objetivo (quanto mais perto da sala D, menor a pontuação)\n",
    "    heuristica = {\n",
    "        'A': 3,\n",
    "        'B': 2,\n",
    "        'C': 1,\n",
    "        'D': 0\n",
    "    }\n",
    "    return heuristica[estado_atual]"
   ]
  },
  {
   "cell_type": "code",
   "execution_count": null,
   "id": "095b9aa1",
   "metadata": {},
   "outputs": [],
   "source": [
    "# Simulação de busca simples: do estado inicial ao final\n",
    "estado_atual = estado_inicial\n",
    "caminho = [estado_atual]\n",
    "\n",
    "print(f\"Estado inicial: {estado_atual}\")"
   ]
  },
  {
   "cell_type": "code",
   "execution_count": null,
   "id": "e7c9b5d2",
   "metadata": {},
   "outputs": [],
   "source": [
    "# Enquanto não chega no estado final\n",
    "while estado_atual != estado_final:\n",
    "    vizinhos = salas[estado_atual]\n",
    "    \n",
    "    # Escolhe o melhor vizinho com base na função de aptidão\n",
    "    proximo_estado = min(vizinhos, key=funcao_aptidao)\n",
    "    \n",
    "    print(f\"Ação executada: mover de {estado_atual} para {proximo_estado}\")\n",
    "    print(f\"Função de aptidão de '{proximo_estado}' = {funcao_aptidao(proximo_estado)}\")\n",
    "    \n",
    "    estado_atual = proximo_estado\n",
    "    caminho.append(estado_atual)\n",
    "\n",
    "print(\"\\nEstado final alcançado:\", estado_atual)\n",
    "print(\"Caminho percorrido:\", \" -> \".join(caminho))"
   ]
  }
 ],
 "metadata": {
  "kernelspec": {
   "display_name": "Python 3",
   "language": "python",
   "name": "python3"
  },
  "language_info": {
   "codemirror_mode": {
    "name": "ipython",
    "version": 3
   },
   "file_extension": ".py",
   "mimetype": "text/x-python",
   "name": "python",
   "nbconvert_exporter": "python",
   "pygments_lexer": "ipython3",
   "version": "3.12.1"
  }
 },
 "nbformat": 4,
 "nbformat_minor": 5
}
